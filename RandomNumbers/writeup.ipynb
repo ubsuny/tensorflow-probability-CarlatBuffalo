{
 "cells": [
  {
   "cell_type": "markdown",
   "id": "indirect-dancing",
   "metadata": {},
   "source": [
    "# writeup for tensorflow-probability hw\n",
    "---\n",
    "## P1\n",
    "We wanna simulate random walkers in 1, 2 and 3-d. One crucial step is to replace `numpy.random.choice` by some algorithms in tensorflow. I use `tf.random.uniform` to generate a set of random numbers within a given range. Then we could just use the comsum to sum them up to get the displacement and be able to see their \"moves\".\n",
    "\n",
    "For $\\sigma^2$ and $\\left< {|\\overrightarrow{r_n}|}^2 \\right>$, the details are in the notebook. One important thing is resulted from the step options we have, $\\left< {|\\overrightarrow{r_n}|}^2 \\right>$ has different relations with the step n.  \n",
    "[helpful source](http://nebula.physics.uakron.edu/dept/faculty/jutta/modeling/diff_eqn.pdf) "
   ]
  },
  {
   "cell_type": "markdown",
   "id": "cosmetic-newman",
   "metadata": {},
   "source": [
    "## P2\n",
    "One thing I found that is really good of tensorflow probability is that the docstring is very helpful, particularly for this problem. So we first implement the `tensorflow_probability.distribution.Mixture` to mix two distributions functions, then use mcmc method in tf to simulate walkers and and the binning.  \n",
    "[a nice video about MH method](https://www.youtube.com/watch?v=OTO1DygELpY)"
   ]
  }
 ],
 "metadata": {
  "kernelspec": {
   "display_name": "Python 3",
   "language": "python",
   "name": "python3"
  },
  "language_info": {
   "codemirror_mode": {
    "name": "ipython",
    "version": 3
   },
   "file_extension": ".py",
   "mimetype": "text/x-python",
   "name": "python",
   "nbconvert_exporter": "python",
   "pygments_lexer": "ipython3",
   "version": "3.8.5"
  }
 },
 "nbformat": 4,
 "nbformat_minor": 5
}
