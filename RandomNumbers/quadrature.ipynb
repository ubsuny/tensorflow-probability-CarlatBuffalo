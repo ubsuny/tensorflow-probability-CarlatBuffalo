{
 "cells": [
  {
   "cell_type": "markdown",
   "metadata": {},
   "source": [
    "# Quadrature \n",
    "\n",
    "Here, we investigate integration (quadrature) using traditional methods like the rectangular method, and compare to MC-based methods. We will investigate a function whose integral is analytically known in order to evaluate the accuracy of the method.\n",
    "\n",
    "As mentioned in lecture, for lower-dimensional functions, the MC methods are not as efficient as the traditional approaches. However, for higher numbers of dimensions, we will see MC methods becoming more effective. "
   ]
  },
  {
   "cell_type": "code",
   "execution_count": 1,
   "metadata": {},
   "outputs": [],
   "source": [
    "import numpy as np\n",
    "import random\n",
    "import math"
   ]
  },
  {
   "cell_type": "code",
   "execution_count": 2,
   "metadata": {},
   "outputs": [],
   "source": [
    "def f(x):\n",
    "    return 1 / (1.0 + x**2)"
   ]
  },
  {
   "cell_type": "code",
   "execution_count": null,
   "metadata": {},
   "outputs": [],
   "source": []
  },
  {
   "cell_type": "code",
   "execution_count": 3,
   "metadata": {},
   "outputs": [],
   "source": [
    "def regular(f, a, b, rule):\n",
    "    x_mid = (a + b) / 2.0\n",
    "    if rule == \"Rectangle\":\n",
    "        return f(a) * (b - a)\n",
    "    elif rule == \"Midpoint\":\n",
    "        return f(x_mid) * (b - a)\n",
    "    elif rule == \"Trapezoid\":\n",
    "        return (f(a) + f(b)) * (b - a) / 2.0\n",
    "    elif rule == \"Simpson\":\n",
    "        return (f(a) + 4*f(x_mid) + f(b)) * (b - a) / 6.0\n",
    "    else:\n",
    "        raise ValueError(rule + ' not implemented')\n",
    "\n",
    "def integral(f, a, b, rule, n_max=10**8, max_error = 1e-4):\n",
    "    n = 1\n",
    "    while True:\n",
    "        if n > n_max:\n",
    "            print (\" N exceeds\", n_max, \"aborting ...\")\n",
    "            break\n",
    "        d = (b - a) / float(n)\n",
    "        edges = np.linspace(a,b,n)\n",
    "        if rule == \"Monte Carlo\":\n",
    "            approx = np.sum(f(np.random.uniform(a, b, n))) * (b-a) / n\n",
    "        else:\n",
    "            approx = np.sum(regular(f, edges[:-1], edges[1:], rule))\n",
    "        error = approx - exact\n",
    "        print (\" \" + repr(n) + \"\\t\" + repr(error))\n",
    "        if abs(error) < max_error:\n",
    "            break\n",
    "        n *= 2\n",
    "    return approx"
   ]
  },
  {
   "cell_type": "code",
   "execution_count": null,
   "metadata": {},
   "outputs": [],
   "source": []
  },
  {
   "cell_type": "code",
   "execution_count": 4,
   "metadata": {},
   "outputs": [
    {
     "name": "stdout",
     "output_type": "stream",
     "text": [
      " Quadrature of 1 / (1 + x**2) from 0.0 to 5.0\n",
      " Exact Integral = 1.373400766945016\n",
      " ------------------------------\n",
      " Quadrature rule: Rectangle\n",
      " N    \tError\n",
      " 1\t-1.373400766945016\n",
      " 2\t3.626599233054984\n",
      " 4\t0.8720570492089685\n",
      " 8\t0.343255188351951\n",
      " 16\t0.16011956720358245\n",
      " 32\t0.0775113609969067\n",
      " 64\t0.03814852369111499\n",
      " 128\t0.01892601173893005\n",
      " 256\t0.009426373714332303\n",
      " 512\t0.004704081885776867\n",
      " 1024\t0.002349771288563618\n",
      " 2048\t0.0011743190514801327\n",
      " 4096\t0.0005870179799634112\n",
      " 8192\t0.00029347361632980906\n",
      " 16384\t0.00014672796635029073\n",
      " 32768\t7.336177292138757e-05\n",
      " Integral = 1.3734741287179373\n",
      " ------------------------------\n",
      " Quadrature rule: Midpoint\n",
      " N    \tError\n",
      " 1\t-1.373400766945016\n",
      " 2\t-0.6837455945312227\n",
      " 4\t-0.06913759385161922\n",
      " 8\t-0.00016264212351946306\n",
      " 16\t6.837090648192934e-05\n",
      " Integral = 1.3734691378514978\n",
      " ------------------------------\n",
      " Quadrature rule: Trapezoid\n",
      " N    \tError\n",
      " 1\t-1.373400766945016\n",
      " 2\t1.2227530792088304\n",
      " 4\t0.07077499792691744\n",
      " 8\t-0.00015140505464228404\n",
      " 16\t-0.00013684305282768428\n",
      " 32\t-3.206332071115092e-05\n",
      " Integral = 1.3733687036243047\n",
      " ------------------------------\n",
      " Quadrature rule: Simpson\n",
      " N    \tError\n",
      " 1\t-1.373400766945016\n",
      " 2\t-0.048246036617871635\n",
      " 4\t-0.02250006325877396\n",
      " 8\t-0.00015889643389388475\n",
      " 16\t-3.374662105315451e-08\n",
      " Integral = 1.3734007331983948\n",
      " ------------------------------\n",
      " Quadrature rule: Monte Carlo\n",
      " N    \tError\n",
      " 1\t2.986506857474396\n",
      " 2\t-1.0676249307740862\n",
      " 4\t-0.5766496537758063\n",
      " 8\t0.3126127204126312\n",
      " 16\t-0.09905080547622469\n",
      " 32\t-0.2293818821566631\n",
      " 64\t-0.15045619079000838\n",
      " 128\t-0.06198727214334787\n",
      " 256\t0.022337406214166355\n",
      " 512\t0.012676478203182073\n",
      " 1024\t-0.03681304170878241\n",
      " 2048\t0.04260547407943882\n",
      " 4096\t-0.015847222186528898\n",
      " 8192\t0.002063113908192582\n",
      " 16384\t0.010366937543492272\n",
      " 32768\t0.0033589893782728364\n",
      " 65536\t-0.006795120030881341\n",
      " 131072\t0.0005772459168125188\n",
      " 262144\t-0.0004579412947667283\n",
      " 524288\t-0.00010463472123212192\n",
      " 1048576\t-0.00015470951327767324\n",
      " 2097152\t0.0017771263257893022\n",
      " 4194304\t6.661625575676844e-05\n",
      " Integral = 1.3734673832007727\n",
      " ------------------------------\n"
     ]
    }
   ],
   "source": [
    "rules = [ \"Rectangle\", \"Midpoint\", \"Trapezoid\", \"Simpson\",\n",
    "          \"Monte Carlo\" ]\n",
    "\n",
    "\n",
    "\n",
    "a = 0.0\n",
    "b = 5.0\n",
    "exact = math.atan(b) - math.atan(a)\n",
    "\n",
    "print (\" Quadrature of 1 / (1 + x**2) from\", a, \"to\", b)\n",
    "print (\" Exact Integral =\", exact)\n",
    "print (\" ------------------------------\")\n",
    "\n",
    "for rule in rules:\n",
    "    print (\" Quadrature rule:\", rule)\n",
    "    print (\" N    \\tError\")\n",
    "    answer =  integral(f, a, b, rule)\n",
    "    print (\" Integral = \" + repr(answer))\n",
    "    print (\" ------------------------------\")"
   ]
  },
  {
   "cell_type": "code",
   "execution_count": null,
   "metadata": {},
   "outputs": [],
   "source": []
  }
 ],
 "metadata": {
  "kernelspec": {
   "display_name": "Python 3",
   "language": "python",
   "name": "python3"
  },
  "language_info": {
   "codemirror_mode": {
    "name": "ipython",
    "version": 3
   },
   "file_extension": ".py",
   "mimetype": "text/x-python",
   "name": "python",
   "nbconvert_exporter": "python",
   "pygments_lexer": "ipython3",
   "version": "3.7.5rc1"
  }
 },
 "nbformat": 4,
 "nbformat_minor": 2
}
